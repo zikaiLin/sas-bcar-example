{
 "cells": [
  {
   "cell_type": "markdown",
   "metadata": {
    "collapsed": false
   },
   "source": "## Applying DNN model on ABIDE dataset\n"
  },
  {
   "cell_type": "markdown",
   "metadata": {
    "collapsed": false
   },
   "source": [
    "Import neccessary modules for data processing and tensorflow"
   ]
  },
  {
   "cell_type": "code",
   "metadata": {
    "collapsed": false,
    "ExecuteTime": {
     "end_time": "2024-12-11T08:44:11.996599Z",
     "start_time": "2024-12-11T08:44:11.994415Z"
    }
   },
   "source": [
    "import os\n",
    "import numpy as np\n",
    "from rpy2.robjects.lib.grid import rpy2py\n",
    "\n",
    "import tensorflow as tf\n",
    "from tensorflow import keras\n",
    "import pyreadr\n",
    "import rpy2.robjects as ro\n",
    "import rpy2\n",
    "\n",
    "\n",
    "import pickle"
   ],
   "outputs": [],
   "execution_count": 392
  },
  {
   "cell_type": "markdown",
   "metadata": {
    "collapsed": false
   },
   "source": "### Load data"
  },
  {
   "cell_type": "markdown",
   "metadata": {
    "collapsed": false
   },
   "source": "Loads preprocessed training and testing data from R's RDS files into a Python environment using rpy2. It extracts predictor variables and a binary outcome variable (where 1 indicates the control, 2 means treatment) from the datasets, converting them to NumPy arrays for use in subsequent model training within Python."
  },
  {
   "cell_type": "code",
   "metadata": {
    "collapsed": false,
    "ExecuteTime": {
     "end_time": "2024-12-11T08:50:39.582696Z",
     "start_time": "2024-12-11T08:50:37.281432Z"
    }
   },
   "source": [
    "ro.r('train_dat <- readRDS(\"~/Documents/BCAR/processed_data/train_dat_nn_256.rds\")')\n",
    "ro.r('test_dat <- readRDS(\"~/Documents/BCAR/processed_data/test_dat_nn_256.rds\")')\n",
    "# Extract data\n",
    "train_predictors = ro.r('train_dat$predictors')\n",
    "test_predictors = ro.r('test_dat$predictors')\n",
    "train_outcome = ro.r('as.integer(I(train_dat$outcome == 2))')\n",
    "test_outcome = ro.r('as.integer(I(test_dat$outcome == 2))')\n",
    "\n",
    "train_outcome = np.array(train_outcome)\n",
    "test_outcome = np.array(test_outcome)"
   ],
   "outputs": [],
   "execution_count": 405
  },
  {
   "metadata": {},
   "cell_type": "markdown",
   "source": "Read the mask file (groupped AAL) and convert it to a NumPy array"
  },
  {
   "metadata": {
    "ExecuteTime": {
     "end_time": "2024-12-11T08:50:39.594424Z",
     "start_time": "2024-12-11T08:50:39.586158Z"
    }
   },
   "cell_type": "code",
   "source": [
    "# Read mask\n",
    "AAL_256_Remap = ro.r('readRDS(\"~/Documents/BCAR/ABIDE_Data/AAL_256_remap.rds\")')\n",
    "AAL_256_Remap_np = np.array(AAL_256_Remap)"
   ],
   "outputs": [],
   "execution_count": 406
  },
  {
   "metadata": {},
   "cell_type": "markdown",
   "source": [
    "### Model\n",
    "\n",
    "DNN Model consist of 3 layers:\n",
    "- Input layer: Flatten layer\n",
    "- Group pooling layer: Custom layer to pool voxel values for each group\n",
    "- Hidden layer: Dense layer with 256 units and ReLU activation function\n",
    "- Output layer: Dense layer with 2 units and softmax activation function\n",
    "- Dropout layer with 0.5 rate\n",
    "- Compile the model with Adam optimizer, sparse_categorical_crossentropy loss function, and accuracy metric\n",
    "- Train the model with 20 epochs and batch size of 128"
   ]
  },
  {
   "cell_type": "code",
   "metadata": {
    "collapsed": false,
    "ExecuteTime": {
     "end_time": "2024-12-11T08:50:42.553004Z",
     "start_time": "2024-12-11T08:50:41.145995Z"
    }
   },
   "source": [
    "import tensorflow as tf\n",
    "import numpy as np\n",
    "from keras.layers import Input, Dense, Dropout, Lambda\n",
    "from keras.models import Model\n",
    "\n",
    "# Example: Preloaded 3D parcellation mask\n",
    "# Replace AAL_256_Remap_np with your actual NumPy 3D array\n",
    "mask = AAL_256_Remap_np  # Shape: (61, 73, 61)\n",
    "\n",
    "# Get unique group labels from the mask\n",
    "unique_labels = np.unique(mask)\n",
    "\n",
    "# Preprocess the mask to get indices for each group\n",
    "group_indices = {label: np.argwhere(mask == label) for label in unique_labels}\n",
    "\n",
    "class GroupPoolingLayer(tf.keras.layers.Layer):\n",
    "    def __init__(self, group_indices, **kwargs):\n",
    "        super().__init__(**kwargs)\n",
    "        self.group_indices = group_indices\n",
    "\n",
    "    def call(self, inputs):\n",
    "        # Get batch size dynamically\n",
    "        batch_size = tf.shape(inputs)[0]\n",
    "        pooled_outputs = []\n",
    "\n",
    "        # Iterate over each group and compute pooled values\n",
    "        for label, indices in self.group_indices.items():\n",
    "            indices_tensor = tf.convert_to_tensor(indices, dtype=tf.int32)  # Shape: (num_voxels, 3)\n",
    "\n",
    "            # Expand indices for batch size\n",
    "            num_voxels = tf.shape(indices_tensor)[0]\n",
    "            batch_indices = tf.range(batch_size, dtype=tf.int32)  # Shape: (batch_size,)\n",
    "            batch_indices = tf.reshape(batch_indices, (-1, 1, 1))  # Shape: (batch_size, 1, 1)\n",
    "            batch_indices = tf.tile(batch_indices, [1, num_voxels, 1])  # Shape: (batch_size, num_voxels, 1)\n",
    "\n",
    "            # Tile spatial indices for each batch\n",
    "            indices_tensor = tf.expand_dims(indices_tensor, axis=0)  # Shape: (1, num_voxels, 3)\n",
    "            indices_tensor = tf.tile(indices_tensor, [batch_size, 1, 1])  # Shape: (batch_size, num_voxels, 3)\n",
    "\n",
    "            # Concatenate batch indices with spatial indices\n",
    "            full_indices = tf.concat([batch_indices, indices_tensor], axis=-1)  # Shape: (batch_size, num_voxels, 4)\n",
    "\n",
    "            # Gather voxel values using full indices\n",
    "            voxel_values = tf.gather_nd(inputs, full_indices)  # Shape: (batch_size, num_voxels)\n",
    "\n",
    "            # Compute mean value for the group across voxels\n",
    "            pooled_value = tf.reduce_mean(voxel_values, axis=1, keepdims=True)  # Shape: (batch_size, 1)\n",
    "            pooled_outputs.append(pooled_value)\n",
    "\n",
    "        # Concatenate pooled outputs for all groups\n",
    "        return tf.concat(pooled_outputs, axis=-1)  # Shape: (batch_size, num_groups)\n",
    "# Define Model\n",
    "inputs = Input(shape=(61, 73, 61))  # Adjust input shape\n",
    "x = GroupPoolingLayer(group_indices)(inputs)  # Apply custom pooling\n",
    "x = Dense(256, activation='relu')(x)  # Fully connected layer\n",
    "x = Dropout(0.5)(x)\n",
    "outputs = Dense(2, activation='softmax')(x)  # Output layer for binary classification\n",
    "\n",
    "# Build the model\n",
    "keras_model = Model(inputs, outputs)\n",
    "\n",
    "keras_model.compile(\n",
    "    optimizer='adam',\n",
    "    loss='sparse_categorical_crossentropy',\n",
    "    metrics=['accuracy']\n",
    ")\n",
    "\n",
    "# Display model summary\n",
    "print(keras_model.summary())\n"
   ],
   "outputs": [
    {
     "data": {
      "text/plain": [
       "\u001B[1mModel: \"functional_60\"\u001B[0m\n"
      ],
      "text/html": [
       "<pre style=\"white-space:pre;overflow-x:auto;line-height:normal;font-family:Menlo,'DejaVu Sans Mono',consolas,'Courier New',monospace\"><span style=\"font-weight: bold\">Model: \"functional_60\"</span>\n",
       "</pre>\n"
      ]
     },
     "metadata": {},
     "output_type": "display_data"
    },
    {
     "data": {
      "text/plain": [
       "┏━━━━━━━━━━━━━━━━━━━━━━━━━━━━━━━━━┳━━━━━━━━━━━━━━━━━━━━━━━━┳━━━━━━━━━━━━━━━┓\n",
       "┃\u001B[1m \u001B[0m\u001B[1mLayer (type)                   \u001B[0m\u001B[1m \u001B[0m┃\u001B[1m \u001B[0m\u001B[1mOutput Shape          \u001B[0m\u001B[1m \u001B[0m┃\u001B[1m \u001B[0m\u001B[1m      Param #\u001B[0m\u001B[1m \u001B[0m┃\n",
       "┡━━━━━━━━━━━━━━━━━━━━━━━━━━━━━━━━━╇━━━━━━━━━━━━━━━━━━━━━━━━╇━━━━━━━━━━━━━━━┩\n",
       "│ input_layer_76 (\u001B[38;5;33mInputLayer\u001B[0m)     │ (\u001B[38;5;45mNone\u001B[0m, \u001B[38;5;34m61\u001B[0m, \u001B[38;5;34m73\u001B[0m, \u001B[38;5;34m61\u001B[0m)     │             \u001B[38;5;34m0\u001B[0m │\n",
       "├─────────────────────────────────┼────────────────────────┼───────────────┤\n",
       "│ group_pooling_layer_20          │ (\u001B[38;5;45mNone\u001B[0m, \u001B[38;5;34m435\u001B[0m)            │             \u001B[38;5;34m0\u001B[0m │\n",
       "│ (\u001B[38;5;33mGroupPoolingLayer\u001B[0m)             │                        │               │\n",
       "├─────────────────────────────────┼────────────────────────┼───────────────┤\n",
       "│ dense_137 (\u001B[38;5;33mDense\u001B[0m)               │ (\u001B[38;5;45mNone\u001B[0m, \u001B[38;5;34m256\u001B[0m)            │       \u001B[38;5;34m111,616\u001B[0m │\n",
       "├─────────────────────────────────┼────────────────────────┼───────────────┤\n",
       "│ dropout_22 (\u001B[38;5;33mDropout\u001B[0m)            │ (\u001B[38;5;45mNone\u001B[0m, \u001B[38;5;34m256\u001B[0m)            │             \u001B[38;5;34m0\u001B[0m │\n",
       "├─────────────────────────────────┼────────────────────────┼───────────────┤\n",
       "│ dense_138 (\u001B[38;5;33mDense\u001B[0m)               │ (\u001B[38;5;45mNone\u001B[0m, \u001B[38;5;34m2\u001B[0m)              │           \u001B[38;5;34m514\u001B[0m │\n",
       "└─────────────────────────────────┴────────────────────────┴───────────────┘\n"
      ],
      "text/html": [
       "<pre style=\"white-space:pre;overflow-x:auto;line-height:normal;font-family:Menlo,'DejaVu Sans Mono',consolas,'Courier New',monospace\">┏━━━━━━━━━━━━━━━━━━━━━━━━━━━━━━━━━┳━━━━━━━━━━━━━━━━━━━━━━━━┳━━━━━━━━━━━━━━━┓\n",
       "┃<span style=\"font-weight: bold\"> Layer (type)                    </span>┃<span style=\"font-weight: bold\"> Output Shape           </span>┃<span style=\"font-weight: bold\">       Param # </span>┃\n",
       "┡━━━━━━━━━━━━━━━━━━━━━━━━━━━━━━━━━╇━━━━━━━━━━━━━━━━━━━━━━━━╇━━━━━━━━━━━━━━━┩\n",
       "│ input_layer_76 (<span style=\"color: #0087ff; text-decoration-color: #0087ff\">InputLayer</span>)     │ (<span style=\"color: #00d7ff; text-decoration-color: #00d7ff\">None</span>, <span style=\"color: #00af00; text-decoration-color: #00af00\">61</span>, <span style=\"color: #00af00; text-decoration-color: #00af00\">73</span>, <span style=\"color: #00af00; text-decoration-color: #00af00\">61</span>)     │             <span style=\"color: #00af00; text-decoration-color: #00af00\">0</span> │\n",
       "├─────────────────────────────────┼────────────────────────┼───────────────┤\n",
       "│ group_pooling_layer_20          │ (<span style=\"color: #00d7ff; text-decoration-color: #00d7ff\">None</span>, <span style=\"color: #00af00; text-decoration-color: #00af00\">435</span>)            │             <span style=\"color: #00af00; text-decoration-color: #00af00\">0</span> │\n",
       "│ (<span style=\"color: #0087ff; text-decoration-color: #0087ff\">GroupPoolingLayer</span>)             │                        │               │\n",
       "├─────────────────────────────────┼────────────────────────┼───────────────┤\n",
       "│ dense_137 (<span style=\"color: #0087ff; text-decoration-color: #0087ff\">Dense</span>)               │ (<span style=\"color: #00d7ff; text-decoration-color: #00d7ff\">None</span>, <span style=\"color: #00af00; text-decoration-color: #00af00\">256</span>)            │       <span style=\"color: #00af00; text-decoration-color: #00af00\">111,616</span> │\n",
       "├─────────────────────────────────┼────────────────────────┼───────────────┤\n",
       "│ dropout_22 (<span style=\"color: #0087ff; text-decoration-color: #0087ff\">Dropout</span>)            │ (<span style=\"color: #00d7ff; text-decoration-color: #00d7ff\">None</span>, <span style=\"color: #00af00; text-decoration-color: #00af00\">256</span>)            │             <span style=\"color: #00af00; text-decoration-color: #00af00\">0</span> │\n",
       "├─────────────────────────────────┼────────────────────────┼───────────────┤\n",
       "│ dense_138 (<span style=\"color: #0087ff; text-decoration-color: #0087ff\">Dense</span>)               │ (<span style=\"color: #00d7ff; text-decoration-color: #00d7ff\">None</span>, <span style=\"color: #00af00; text-decoration-color: #00af00\">2</span>)              │           <span style=\"color: #00af00; text-decoration-color: #00af00\">514</span> │\n",
       "└─────────────────────────────────┴────────────────────────┴───────────────┘\n",
       "</pre>\n"
      ]
     },
     "metadata": {},
     "output_type": "display_data"
    },
    {
     "data": {
      "text/plain": [
       "\u001B[1m Total params: \u001B[0m\u001B[38;5;34m112,130\u001B[0m (438.01 KB)\n"
      ],
      "text/html": [
       "<pre style=\"white-space:pre;overflow-x:auto;line-height:normal;font-family:Menlo,'DejaVu Sans Mono',consolas,'Courier New',monospace\"><span style=\"font-weight: bold\"> Total params: </span><span style=\"color: #00af00; text-decoration-color: #00af00\">112,130</span> (438.01 KB)\n",
       "</pre>\n"
      ]
     },
     "metadata": {},
     "output_type": "display_data"
    },
    {
     "data": {
      "text/plain": [
       "\u001B[1m Trainable params: \u001B[0m\u001B[38;5;34m112,130\u001B[0m (438.01 KB)\n"
      ],
      "text/html": [
       "<pre style=\"white-space:pre;overflow-x:auto;line-height:normal;font-family:Menlo,'DejaVu Sans Mono',consolas,'Courier New',monospace\"><span style=\"font-weight: bold\"> Trainable params: </span><span style=\"color: #00af00; text-decoration-color: #00af00\">112,130</span> (438.01 KB)\n",
       "</pre>\n"
      ]
     },
     "metadata": {},
     "output_type": "display_data"
    },
    {
     "data": {
      "text/plain": [
       "\u001B[1m Non-trainable params: \u001B[0m\u001B[38;5;34m0\u001B[0m (0.00 B)\n"
      ],
      "text/html": [
       "<pre style=\"white-space:pre;overflow-x:auto;line-height:normal;font-family:Menlo,'DejaVu Sans Mono',consolas,'Courier New',monospace\"><span style=\"font-weight: bold\"> Non-trainable params: </span><span style=\"color: #00af00; text-decoration-color: #00af00\">0</span> (0.00 B)\n",
       "</pre>\n"
      ]
     },
     "metadata": {},
     "output_type": "display_data"
    },
    {
     "name": "stdout",
     "output_type": "stream",
     "text": [
      "None\n"
     ]
    }
   ],
   "execution_count": 408
  },
  {
   "metadata": {},
   "cell_type": "markdown",
   "source": "Train the model with 20 epochs and batch size of 128"
  },
  {
   "metadata": {
    "ExecuteTime": {
     "end_time": "2024-12-11T08:51:03.755198Z",
     "start_time": "2024-12-11T08:50:43.556556Z"
    }
   },
   "cell_type": "code",
   "source": [
    "\n",
    "# Train the model\n",
    "history = keras_model.fit(\n",
    "    train_predictors,\n",
    "    train_outcome,\n",
    "    epochs=20,\n",
    "    batch_size=128,\n",
    "    verbose=1\n",
    ")"
   ],
   "outputs": [
    {
     "name": "stdout",
     "output_type": "stream",
     "text": [
      "Epoch 1/20\n",
      "\u001B[1m6/6\u001B[0m \u001B[32m━━━━━━━━━━━━━━━━━━━━\u001B[0m\u001B[37m\u001B[0m \u001B[1m5s\u001B[0m 119ms/step - accuracy: 0.4989 - loss: 0.9374\n",
      "Epoch 2/20\n",
      "\u001B[1m6/6\u001B[0m \u001B[32m━━━━━━━━━━━━━━━━━━━━\u001B[0m\u001B[37m\u001B[0m \u001B[1m1s\u001B[0m 118ms/step - accuracy: 0.4916 - loss: 0.7702\n",
      "Epoch 3/20\n",
      "\u001B[1m6/6\u001B[0m \u001B[32m━━━━━━━━━━━━━━━━━━━━\u001B[0m\u001B[37m\u001B[0m \u001B[1m1s\u001B[0m 114ms/step - accuracy: 0.5113 - loss: 0.7235\n",
      "Epoch 4/20\n",
      "\u001B[1m6/6\u001B[0m \u001B[32m━━━━━━━━━━━━━━━━━━━━\u001B[0m\u001B[37m\u001B[0m \u001B[1m1s\u001B[0m 107ms/step - accuracy: 0.5197 - loss: 0.7387\n",
      "Epoch 5/20\n",
      "\u001B[1m6/6\u001B[0m \u001B[32m━━━━━━━━━━━━━━━━━━━━\u001B[0m\u001B[37m\u001B[0m \u001B[1m1s\u001B[0m 107ms/step - accuracy: 0.4806 - loss: 0.7078\n",
      "Epoch 6/20\n",
      "\u001B[1m6/6\u001B[0m \u001B[32m━━━━━━━━━━━━━━━━━━━━\u001B[0m\u001B[37m\u001B[0m \u001B[1m1s\u001B[0m 113ms/step - accuracy: 0.4914 - loss: 0.7031\n",
      "Epoch 7/20\n",
      "\u001B[1m6/6\u001B[0m \u001B[32m━━━━━━━━━━━━━━━━━━━━\u001B[0m\u001B[37m\u001B[0m \u001B[1m1s\u001B[0m 107ms/step - accuracy: 0.5199 - loss: 0.6935\n",
      "Epoch 8/20\n",
      "\u001B[1m6/6\u001B[0m \u001B[32m━━━━━━━━━━━━━━━━━━━━\u001B[0m\u001B[37m\u001B[0m \u001B[1m1s\u001B[0m 116ms/step - accuracy: 0.5063 - loss: 0.6909\n",
      "Epoch 9/20\n",
      "\u001B[1m6/6\u001B[0m \u001B[32m━━━━━━━━━━━━━━━━━━━━\u001B[0m\u001B[37m\u001B[0m \u001B[1m1s\u001B[0m 113ms/step - accuracy: 0.5046 - loss: 0.6927\n",
      "Epoch 10/20\n",
      "\u001B[1m6/6\u001B[0m \u001B[32m━━━━━━━━━━━━━━━━━━━━\u001B[0m\u001B[37m\u001B[0m \u001B[1m1s\u001B[0m 123ms/step - accuracy: 0.5188 - loss: 0.6939\n",
      "Epoch 11/20\n",
      "\u001B[1m6/6\u001B[0m \u001B[32m━━━━━━━━━━━━━━━━━━━━\u001B[0m\u001B[37m\u001B[0m \u001B[1m1s\u001B[0m 119ms/step - accuracy: 0.5224 - loss: 0.6941\n",
      "Epoch 12/20\n",
      "\u001B[1m6/6\u001B[0m \u001B[32m━━━━━━━━━━━━━━━━━━━━\u001B[0m\u001B[37m\u001B[0m \u001B[1m1s\u001B[0m 123ms/step - accuracy: 0.5433 - loss: 0.6909\n",
      "Epoch 13/20\n",
      "\u001B[1m6/6\u001B[0m \u001B[32m━━━━━━━━━━━━━━━━━━━━\u001B[0m\u001B[37m\u001B[0m \u001B[1m1s\u001B[0m 117ms/step - accuracy: 0.5237 - loss: 0.6912\n",
      "Epoch 14/20\n",
      "\u001B[1m6/6\u001B[0m \u001B[32m━━━━━━━━━━━━━━━━━━━━\u001B[0m\u001B[37m\u001B[0m \u001B[1m1s\u001B[0m 122ms/step - accuracy: 0.5401 - loss: 0.6873\n",
      "Epoch 15/20\n",
      "\u001B[1m6/6\u001B[0m \u001B[32m━━━━━━━━━━━━━━━━━━━━\u001B[0m\u001B[37m\u001B[0m \u001B[1m1s\u001B[0m 116ms/step - accuracy: 0.4886 - loss: 0.6979\n",
      "Epoch 16/20\n",
      "\u001B[1m6/6\u001B[0m \u001B[32m━━━━━━━━━━━━━━━━━━━━\u001B[0m\u001B[37m\u001B[0m \u001B[1m1s\u001B[0m 122ms/step - accuracy: 0.5384 - loss: 0.6892\n",
      "Epoch 17/20\n",
      "\u001B[1m6/6\u001B[0m \u001B[32m━━━━━━━━━━━━━━━━━━━━\u001B[0m\u001B[37m\u001B[0m \u001B[1m1s\u001B[0m 133ms/step - accuracy: 0.4948 - loss: 0.6956\n",
      "Epoch 18/20\n",
      "\u001B[1m6/6\u001B[0m \u001B[32m━━━━━━━━━━━━━━━━━━━━\u001B[0m\u001B[37m\u001B[0m \u001B[1m1s\u001B[0m 124ms/step - accuracy: 0.5305 - loss: 0.6904\n",
      "Epoch 19/20\n",
      "\u001B[1m6/6\u001B[0m \u001B[32m━━━━━━━━━━━━━━━━━━━━\u001B[0m\u001B[37m\u001B[0m \u001B[1m1s\u001B[0m 147ms/step - accuracy: 0.5252 - loss: 0.6890\n",
      "Epoch 20/20\n",
      "\u001B[1m6/6\u001B[0m \u001B[32m━━━━━━━━━━━━━━━━━━━━\u001B[0m\u001B[37m\u001B[0m \u001B[1m1s\u001B[0m 146ms/step - accuracy: 0.5053 - loss: 0.6905\n"
     ]
    }
   ],
   "execution_count": 409
  },
  {
   "metadata": {},
   "cell_type": "markdown",
   "source": "Evaluate the model on the testing data"
  },
  {
   "metadata": {
    "ExecuteTime": {
     "end_time": "2024-12-11T08:51:49.172771Z",
     "start_time": "2024-12-11T08:51:42.478330Z"
    }
   },
   "cell_type": "code",
   "source": [
    "test_evaluation = keras_model.evaluate(test_predictors, test_outcome)\n",
    "predictions =  keras_model.predict(test_predictors)\n",
    "# predictions = np.argmax(predictions, axis=1)\n",
    "\n",
    "# Apply the cutoff to classify predictions\n",
    "cutoff = 0.521\n",
    "predicted_classes = (predictions[:, 1] >= cutoff).astype(int)\n",
    "# predicted_classes = np.argmax(predictions, axis=1)\n",
    "# Check the classified results\n",
    "print(np.mean(predicted_classes == test_outcome))"
   ],
   "outputs": [
    {
     "name": "stdout",
     "output_type": "stream",
     "text": [
      "\u001B[1m3/3\u001B[0m \u001B[32m━━━━━━━━━━━━━━━━━━━━\u001B[0m\u001B[37m\u001B[0m \u001B[1m2s\u001B[0m 25ms/step - accuracy: 0.6080 - loss: 0.6830\n",
      "\u001B[1m3/3\u001B[0m \u001B[32m━━━━━━━━━━━━━━━━━━━━\u001B[0m\u001B[37m\u001B[0m \u001B[1m4s\u001B[0m 944ms/step\n",
      "0.6144578313253012\n"
     ]
    }
   ],
   "execution_count": 410
  },
  {
   "metadata": {},
   "cell_type": "markdown",
   "source": "### Evaluation"
  },
  {
   "metadata": {
    "ExecuteTime": {
     "end_time": "2024-12-11T08:51:49.177120Z",
     "start_time": "2024-12-11T08:51:49.175350Z"
    }
   },
   "cell_type": "code",
   "source": [
    "from sklearn.metrics import roc_curve, auc\n",
    "import matplotlib.pyplot as plt\n",
    "\n",
    "# Get true labels and predicted probabilities for the positive class\n",
    "true_labels = test_outcome  # Ground truth labels\n",
    "predicted_probabilities = predictions[:, 1]  # Probability for positive class\n"
   ],
   "outputs": [],
   "execution_count": 411
  },
  {
   "metadata": {
    "ExecuteTime": {
     "end_time": "2024-12-11T08:51:49.196657Z",
     "start_time": "2024-12-11T08:51:49.193495Z"
    }
   },
   "cell_type": "code",
   "source": [
    "sasbcar_prob_predict_256 = ro.r('readRDS(\"~/Documents/BCAR/ABIDE_prediction_256/poly20_b100/prob_predict_256.rds\")')\n",
    "sasbcar_prob_predict_256 = np.array(sasbcar_prob_predict_256)\n",
    "sasbcar_prob_predict_256.shape = (sasbcar_prob_predict_256.shape[0], )"
   ],
   "outputs": [],
   "execution_count": 412
  },
  {
   "metadata": {
    "ExecuteTime": {
     "end_time": "2024-12-11T08:51:49.287811Z",
     "start_time": "2024-12-11T08:51:49.213285Z"
    }
   },
   "cell_type": "code",
   "source": [
    "from sklearn.metrics import roc_curve, auc\n",
    "import matplotlib.pyplot as plt\n",
    "\n",
    "# True labels (same for both sets of predictions)\n",
    "true_labels = test_outcome\n",
    "\n",
    "# First set of predicted probabilities (sasbcar_prob_predict_256)\n",
    "fpr_1, tpr_1, _ = roc_curve(true_labels, sasbcar_prob_predict_256)\n",
    "auc_1 = auc(fpr_1, tpr_1)\n",
    "\n",
    "# Second set of predicted probabilities (predicted_probabilities)\n",
    "fpr_2, tpr_2, _ = roc_curve(true_labels, predicted_probabilities)\n",
    "auc_2 = auc(fpr_2, tpr_2)\n",
    "\n",
    "# Option 1: Overlay both ROC curves\n",
    "plt.figure(figsize=(8, 6))\n",
    "plt.plot(fpr_1, tpr_1, color='blue', lw=2, label=f'SAS-BCAR (AUC = {auc_1:.2f})')\n",
    "plt.plot(fpr_2, tpr_2, color='green', lw=2, label=f'DNN (Group Pooled) (AUC = {auc_2:.2f})')\n",
    "plt.plot([0, 1], [0, 1], color='gray', lw=1, linestyle='--')  # Diagonal line\n",
    "plt.xlabel('False Positive Rate')\n",
    "plt.ylabel('True Positive Rate')\n",
    "plt.title('Comparison of ROC Curves (n_vox = 513)')\n",
    "plt.legend(loc=\"lower right\")\n",
    "plt.show()\n"
   ],
   "outputs": [
    {
     "data": {
      "text/plain": [
       "<Figure size 800x600 with 1 Axes>"
      ],
      "image/png": "[encoded data removed]"
     },
     "metadata": {},
     "output_type": "display_data"
    }
   ],
   "execution_count": 413
  },
  {
   "metadata": {
    "ExecuteTime": {
     "end_time": "2024-12-09T16:26:40.046066Z",
     "start_time": "2024-12-09T16:26:40.043029Z"
    }
   },
   "cell_type": "code",
   "source": [
    "from sklearn.metrics import confusion_matrix, classification_report\n",
    "import matplotlib.pyplot as plt\n",
    "import seaborn as sns"
   ],
   "outputs": [],
   "execution_count": 340
  },
  {
   "metadata": {
    "ExecuteTime": {
     "end_time": "2024-12-11T07:19:45.429493Z",
     "start_time": "2024-12-11T07:19:45.360231Z"
    }
   },
   "cell_type": "code",
   "source": [
    "# Compute confusion matrix\n",
    "cm = confusion_matrix(test_outcome, predicted_classes)\n",
    "# Define class names\n",
    "class_names = ['Class 0', 'Class 1']  # Replace with your actual class names if different\n",
    "\n",
    "# Create a DataFrame for the confusion matrix\n",
    "import pandas as pd\n",
    "cm_df = pd.DataFrame(cm, index=class_names, columns=class_names)\n",
    "\n",
    "# Plot the confusion matrix\n",
    "plt.figure(figsize=(6,4))\n",
    "sns.heatmap(cm_df, annot=True, fmt='d', cmap='Blues')\n",
    "plt.ylabel('Actual')\n",
    "plt.xlabel('Predicted')\n",
    "plt.title('Confusion Matrix')\n",
    "plt.show()\n",
    "\n"
   ],
   "outputs": [
    {
     "data": {
      "text/plain": [
       "<Figure size 600x400 with 2 Axes>"
      ],
      "image/png": "[encoded data removed]"
     },
     "metadata": {},
     "output_type": "display_data"
    }
   ],
   "execution_count": 375
  }
 ],
 "metadata": {
  "kernelspec": {
   "display_name": "Python 3",
   "language": "python",
   "name": "python3"
  },
  "language_info": {
   "codemirror_mode": {
    "name": "ipython",
    "version": 3
   },
   "file_extension": ".py",
   "mimetype": "text/x-python",
   "name": "python",
   "nbconvert_exporter": "python",
   "pygments_lexer": "ipython3",
   "version": "3.9.6"
  }
 },
 "nbformat": 4,
 "nbformat_minor": 0
}
